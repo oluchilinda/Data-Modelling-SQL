{
 "cells": [
  {
   "cell_type": "code",
   "execution_count": 88,
   "id": "c3aa880e",
   "metadata": {},
   "outputs": [
    {
     "name": "stdout",
     "output_type": "stream",
     "text": [
      "Requirement already satisfied: mysql-connector-python in /Users/apple/Desktop/Everyday_learning/env/lib/python3.9/site-packages (8.0.25)\n",
      "Requirement already satisfied: psycopg2 in /Users/apple/Desktop/Everyday_learning/env/lib/python3.9/site-packages (2.9.1)\n",
      "Requirement already satisfied: protobuf>=3.0.0 in /Users/apple/Desktop/Everyday_learning/env/lib/python3.9/site-packages (from mysql-connector-python) (3.17.3)\n",
      "Requirement already satisfied: six>=1.9 in /Users/apple/Desktop/Everyday_learning/env/lib/python3.9/site-packages (from protobuf>=3.0.0->mysql-connector-python) (1.16.0)\n",
      "\u001b[33mWARNING: You are using pip version 21.1.2; however, version 21.1.3 is available.\n",
      "You should consider upgrading via the '/Users/apple/Desktop/Everyday_learning/env/bin/python -m pip install --upgrade pip' command.\u001b[0m\n",
      "Note: you may need to restart the kernel to use updated packages.\n"
     ]
    }
   ],
   "source": [
    "pip install  mysql-connector-python psycopg2"
   ]
  },
  {
   "cell_type": "markdown",
   "id": "d90a81fc",
   "metadata": {},
   "source": [
    "## Set up local system for development\n",
    "- Create virtual environment\n",
    "    ```shell\n",
    "    cd Desktop/Everyday_learning\n",
    "    python3 -m venv env\n",
    "    # set up ipykernel which provides the IPython kernel for Jupyter:  \n",
    "    git clone https://github.com/ipython/ipykernel.git\n",
    "    cd ipykernel \n",
    "    pip install e .\n",
    "    python -m ipykernel install --user --name=dataengineering\n",
    "    ```\n",
    "    ##### Output:\n",
    "    ```shell\n",
    "    Installed kernelspec dataengineering in /Users/apple/Library/Jupyter/kernels/dataengineering\n",
    "    ```\n",
    "\n",
    "    *Open a new terminal and run the following below*\n",
    "\n",
    "    ```shell\n",
    "    (env) oluchi@Everyday_learning $ cat /Users/apple/Library/Jupyter/kernels/dataengineering/kernel.json\n",
    "    ```\n",
    "    Output:\n",
    "    ```shell\n",
    "    {\n",
    "     \"argv\": [\n",
    "      \"/Users/apple/Desktop/Everyday_learning/env/bin/python\",\n",
    "      \"-m\",\n",
    "      \"ipykernel_launcher\",\n",
    "      \"-f\",\n",
    "      \"{connection_file}\"\n",
    "     ],\n",
    "     \"display_name\": \"dataengineering\",\n",
    "     \"language\": \"python\",\n",
    "     \"metadata\": {\n",
    "      \"debugger\": true\n",
    "     }\n",
    "     ```\n",
    "     \n",
    "     \n",
    "     \n",
    "     \n",
    "     "
   ]
  },
  {
   "cell_type": "markdown",
   "id": "ea42f949",
   "metadata": {},
   "source": [
    "### Set up Postgresql \n",
    "```shell\n",
    "postgres=# \\du   # check existing users\n",
    "postgres=# CREATE ROLE newUser WITH LOGIN PASSWORD 'password';\n",
    "postgres=# ALTER ROLE newUser CREATEDB;\n",
    "postgres=# CREATE DATABASE yourdbname;\n",
    "postgres=# GRANT ALL PRIVILEGES ON DATABASE yourdbname TO youruser;\n",
    "postgres=# \\q\n",
    "```\n",
    "\n",
    "### Set up MySQL\n",
    "```shell\n",
    " mysql -u root -p\n",
    "```\n",
    "```shell\n",
    "mysql> SHOW DATABASES; \n",
    "mysql> CREATE DATABASE new_dbname;\n",
    "mysql> SHOW DATABASES;\n",
    "mysql> USE new_dbname;\n",
    "```\n"
   ]
  },
  {
   "cell_type": "code",
   "execution_count": 89,
   "id": "94b2ebd7",
   "metadata": {},
   "outputs": [],
   "source": [
    "import os\n",
    "import json\n",
    "import psycopg2\n",
    "import mysql.connector\n",
    "from configparser import ConfigParser"
   ]
  },
  {
   "cell_type": "code",
   "execution_count": 73,
   "id": "63d6b128",
   "metadata": {},
   "outputs": [],
   "source": [
    "\n",
    "def config( section, filename):\n",
    "    # create a parser\n",
    "    parser = ConfigParser()\n",
    "    # read config file\n",
    "    parser.read(filename)\n",
    "\n",
    "    # get section, default to postgresql\n",
    "    db = {}\n",
    "    if parser.has_section(section):\n",
    "        params = parser.items(section)\n",
    "        for param in params:\n",
    "            db[param[0]] = param[1]\n",
    "    else:\n",
    "        raise Exception('Section {0} not found in the {1} file'.format(section, filename))\n",
    "\n",
    "    return db"
   ]
  },
  {
   "cell_type": "code",
   "execution_count": 84,
   "id": "c489cb34",
   "metadata": {},
   "outputs": [],
   "source": [
    "def pg_connect():\n",
    "    \"\"\" Connect to the PostgreSQL database server \"\"\"\n",
    "    conn = None\n",
    "    try:\n",
    "        # read connection parameters\n",
    "        params = config('postgresql','database.ini')\n",
    "        print('Connecting to the PostgreSQL database...')\n",
    "        conn = psycopg2.connect(**params)\n",
    "        cur = conn.cursor()\n",
    "        \n",
    "        # execute a statement\n",
    "        print('PostgreSQL database version:')\n",
    "        cur.execute('SELECT version()')\n",
    "\n",
    "        # display the PostgreSQL database server version\n",
    "        db_version = cur.fetchone()\n",
    "        print(db_version)\n",
    "       \n",
    "    except (Exception, psycopg2.DatabaseError) as error:\n",
    "        print(error)\n",
    " "
   ]
  },
  {
   "cell_type": "code",
   "execution_count": 85,
   "id": "c423d3c5",
   "metadata": {},
   "outputs": [],
   "source": [
    "def mysql_connect():\n",
    "    with open('secrets.json') as f:\n",
    "        data = json.load(f)\n",
    "        user_name = data['DATABASE_USER']\n",
    "        user_password = data['DATABASE_PASSWORD']\n",
    "        db_name = data['DATABASE_NAME']\n",
    "        host = data[\"DATABASE_HOST\"]\n",
    "    conn = None\n",
    "    try:\n",
    "        mydb = mysql.connector.connect(\n",
    "        host=host,\n",
    "        user=user_name,\n",
    "        passwd=user_password\n",
    "        )\n",
    "\n",
    "        print(mydb)\n",
    "        cur = mydb.cursor()\n",
    "       \n",
    "       \n",
    "    except (Exception) as error:\n",
    "        print(error)"
   ]
  },
  {
   "cell_type": "code",
   "execution_count": 86,
   "id": "64cb8f36",
   "metadata": {},
   "outputs": [
    {
     "name": "stdout",
     "output_type": "stream",
     "text": [
      "Connecting to the PostgreSQL database...\n",
      "PostgreSQL database version:\n",
      "('PostgreSQL 13.3 on x86_64-apple-darwin19.6.0, compiled by Apple clang version 12.0.0 (clang-1200.0.32.29), 64-bit',)\n"
     ]
    }
   ],
   "source": [
    "postgresql_connect = pg_connect()"
   ]
  },
  {
   "cell_type": "code",
   "execution_count": 87,
   "id": "028ec7fa",
   "metadata": {},
   "outputs": [
    {
     "name": "stdout",
     "output_type": "stream",
     "text": [
      "<mysql.connector.connection.MySQLConnection object at 0x107356eb0>\n"
     ]
    }
   ],
   "source": [
    "mysql_connect = mysql_connect()"
   ]
  }
 ],
 "metadata": {
  "kernelspec": {
   "display_name": "dataengineering",
   "language": "python",
   "name": "dataengineering"
  },
  "language_info": {
   "codemirror_mode": {
    "name": "ipython",
    "version": 3
   },
   "file_extension": ".py",
   "mimetype": "text/x-python",
   "name": "python",
   "nbconvert_exporter": "python",
   "pygments_lexer": "ipython3",
   "version": "3.9.6"
  }
 },
 "nbformat": 4,
 "nbformat_minor": 5
}
